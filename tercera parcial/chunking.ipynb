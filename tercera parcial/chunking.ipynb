{
 "cells": [
  {
   "cell_type": "code",
   "execution_count": 19,
   "metadata": {},
   "outputs": [],
   "source": [
    "from nltk.chunk import RegexpParser\n",
    "from nltk.tokenize import word_tokenize, wordpunct_tokenize\n",
    "from nltk import ne_chunk, pos_tag, word_tokenize\n",
    "import nltk\n",
    "#nltk.download('maxent_ne_chunker')\n",
    "#nltk.download('words')"
   ]
  },
  {
   "cell_type": "code",
   "execution_count": 20,
   "metadata": {},
   "outputs": [
    {
     "name": "stdout",
     "output_type": "stream",
     "text": [
      "(S\n",
      "  NLTK/NNP\n",
      "  es/CC\n",
      "  (NP una/JJ biblioteca/NN)\n",
      "  de/IN\n",
      "  Python/NNP\n",
      "  para/FW\n",
      "  (NP procesamiento/NN)\n",
      "  de/FW\n",
      "  lenguaje/FW\n",
      "  natural/JJ\n",
      "  ./.)\n"
     ]
    }
   ],
   "source": [
    "\n",
    "\n",
    "text = \"NLTK es una biblioteca de Python para procesamiento de lenguaje natural.\"\n",
    "words = word_tokenize(text)\n",
    "tagged = nltk.pos_tag(words)\n",
    "grammar = \"NP: {<DT>?<JJ>*<NN>}\"\n",
    "parser = RegexpParser(grammar)\n",
    "result = parser.parse(tagged)\n",
    "print(result)\n",
    "\n"
   ]
  },
  {
   "cell_type": "code",
   "execution_count": 21,
   "metadata": {},
   "outputs": [
    {
     "name": "stdout",
     "output_type": "stream",
     "text": [
      "(S\n",
      "  (PERSON Barack/NNP)\n",
      "  (PERSON Obama/NNP)\n",
      "  was/VBD\n",
      "  born/VBN\n",
      "  in/IN\n",
      "  (GPE Hawaii/NNP)\n",
      "  ./.)\n"
     ]
    }
   ],
   "source": [
    "\n",
    "text = \"Barack Obama was born in Hawaii.\"\n",
    "tokens = word_tokenize(text)\n",
    "pos_tags = pos_tag(tokens)\n",
    "etiquetas_pos = pos_tags\n",
    "ner_chunks = ne_chunk(etiquetas_pos)\n",
    "print(ner_chunks)\n"
   ]
  }
 ],
 "metadata": {
  "kernelspec": {
   "display_name": "Python 3",
   "language": "python",
   "name": "python3"
  },
  "language_info": {
   "codemirror_mode": {
    "name": "ipython",
    "version": 3
   },
   "file_extension": ".py",
   "mimetype": "text/x-python",
   "name": "python",
   "nbconvert_exporter": "python",
   "pygments_lexer": "ipython3",
   "version": "3.11.4"
  }
 },
 "nbformat": 4,
 "nbformat_minor": 2
}
